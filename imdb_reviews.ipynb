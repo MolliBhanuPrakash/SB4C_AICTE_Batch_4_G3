{
  "nbformat": 4,
  "nbformat_minor": 0,
  "metadata": {
    "colab": {
      "provenance": [],
      "authorship_tag": "ABX9TyM8h3b1+VsFj/3EFy9hwcJN",
      "include_colab_link": true
    },
    "kernelspec": {
      "name": "python3",
      "display_name": "Python 3"
    },
    "language_info": {
      "name": "python"
    },
    "accelerator": "TPU"
  },
  "cells": [
    {
      "cell_type": "markdown",
      "metadata": {
        "id": "view-in-github",
        "colab_type": "text"
      },
      "source": [
        "<a href=\"https://colab.research.google.com/github/bhanuprakash-molli/SB4C_AICTE_Batch_4_G3/blob/main/imdb_reviews.ipynb\" target=\"_parent\"><img src=\"https://colab.research.google.com/assets/colab-badge.svg\" alt=\"Open In Colab\"/></a>"
      ]
    },
    {
      "cell_type": "code",
      "execution_count": 1,
      "metadata": {
        "id": "Q7OTp0-XUbWI"
      },
      "outputs": [],
      "source": [
        "import warnings\n",
        "warnings.simplefilter('ignore')"
      ]
    },
    {
      "cell_type": "code",
      "source": [
        "import numpy as np\n",
        "import pandas as pd\n",
        "import pylab as plt\n",
        "import matplotlib.pyplot as plt\n",
        "\n",
        "from sklearn.linear_model import LogisticRegression\n",
        "\n",
        "from sklearn.model_selection import train_test_split\n",
        "from sklearn.metrics import accuracy_score, precision_score, recall_score, f1_score\n",
        "from sklearn.model_selection import KFold, cross_val_score\n",
        "from sklearn.metrics import cohen_kappa_score\n",
        "\n",
        "from sklearn.feature_extraction.text import TfidfVectorizer\n",
        "import pickle\n",
        "\n",
        "from imblearn.over_sampling import SMOTE\n",
        "from nltk.tokenize import word_tokenize\n",
        "from nltk.corpus import stopwords\n",
        "\n",
        "import nltk\n",
        "nltk.download('punkt')\n",
        "nltk.download('stopwords')\n"
      ],
      "metadata": {
        "colab": {
          "base_uri": "https://localhost:8080/"
        },
        "id": "eVmChM7sVjNX",
        "outputId": "a7cdaada-1fd9-47b0-ba30-1f9ca00e00d8"
      },
      "execution_count": 2,
      "outputs": [
        {
          "output_type": "stream",
          "name": "stderr",
          "text": [
            "[nltk_data] Downloading package punkt to /root/nltk_data...\n",
            "[nltk_data]   Unzipping tokenizers/punkt.zip.\n",
            "[nltk_data] Downloading package stopwords to /root/nltk_data...\n",
            "[nltk_data]   Unzipping corpora/stopwords.zip.\n"
          ]
        },
        {
          "output_type": "execute_result",
          "data": {
            "text/plain": [
              "True"
            ]
          },
          "metadata": {},
          "execution_count": 2
        }
      ]
    },
    {
      "cell_type": "markdown",
      "source": [
        "IMDB **DataSet**"
      ],
      "metadata": {
        "id": "m8szXoEZVnZ0"
      }
    },
    {
      "cell_type": "code",
      "source": [
        "data=pd.read_csv(\"/content/data.csv\")"
      ],
      "metadata": {
        "id": "8JxvCHJoVu-X"
      },
      "execution_count": 3,
      "outputs": []
    },
    {
      "cell_type": "code",
      "source": [
        "data.head(10)"
      ],
      "metadata": {
        "colab": {
          "base_uri": "https://localhost:8080/",
          "height": 363
        },
        "id": "4C3-Tbi9ZVb3",
        "outputId": "1aa9e8dc-e5a6-48cd-fe23-02ae9146f248"
      },
      "execution_count": null,
      "outputs": [
        {
          "output_type": "execute_result",
          "data": {
            "text/plain": [
              "                                              review  label\n",
              "0  this was painful i made myself watch it until ...    0.0\n",
              "1  once again mr costner has dragged out a movie ...    0.0\n",
              "2  by strange coincidence i ve started to watch t...    0.0\n",
              "3  well the hero and the terror is slightly below...    0.0\n",
              "4  well the hero and the terror is slightly below...    0.0\n",
              "5  this is an example of why the majority of acti...    0.0\n",
              "6  the creators of this movie must have sat down ...    0.0\n",
              "7  cultural vandalism is the new hallmark product...    0.0\n",
              "8  first of all i hate those moronic rappers who ...    0.0\n",
              "9  this adaption contains two parts br br 1 the n...    0.0"
            ],
            "text/html": [
              "\n",
              "  <div id=\"df-cd6cc6eb-3ae6-445c-9cc3-16155d3d642e\" class=\"colab-df-container\">\n",
              "    <div>\n",
              "<style scoped>\n",
              "    .dataframe tbody tr th:only-of-type {\n",
              "        vertical-align: middle;\n",
              "    }\n",
              "\n",
              "    .dataframe tbody tr th {\n",
              "        vertical-align: top;\n",
              "    }\n",
              "\n",
              "    .dataframe thead th {\n",
              "        text-align: right;\n",
              "    }\n",
              "</style>\n",
              "<table border=\"1\" class=\"dataframe\">\n",
              "  <thead>\n",
              "    <tr style=\"text-align: right;\">\n",
              "      <th></th>\n",
              "      <th>review</th>\n",
              "      <th>label</th>\n",
              "    </tr>\n",
              "  </thead>\n",
              "  <tbody>\n",
              "    <tr>\n",
              "      <th>0</th>\n",
              "      <td>this was painful i made myself watch it until ...</td>\n",
              "      <td>0.0</td>\n",
              "    </tr>\n",
              "    <tr>\n",
              "      <th>1</th>\n",
              "      <td>once again mr costner has dragged out a movie ...</td>\n",
              "      <td>0.0</td>\n",
              "    </tr>\n",
              "    <tr>\n",
              "      <th>2</th>\n",
              "      <td>by strange coincidence i ve started to watch t...</td>\n",
              "      <td>0.0</td>\n",
              "    </tr>\n",
              "    <tr>\n",
              "      <th>3</th>\n",
              "      <td>well the hero and the terror is slightly below...</td>\n",
              "      <td>0.0</td>\n",
              "    </tr>\n",
              "    <tr>\n",
              "      <th>4</th>\n",
              "      <td>well the hero and the terror is slightly below...</td>\n",
              "      <td>0.0</td>\n",
              "    </tr>\n",
              "    <tr>\n",
              "      <th>5</th>\n",
              "      <td>this is an example of why the majority of acti...</td>\n",
              "      <td>0.0</td>\n",
              "    </tr>\n",
              "    <tr>\n",
              "      <th>6</th>\n",
              "      <td>the creators of this movie must have sat down ...</td>\n",
              "      <td>0.0</td>\n",
              "    </tr>\n",
              "    <tr>\n",
              "      <th>7</th>\n",
              "      <td>cultural vandalism is the new hallmark product...</td>\n",
              "      <td>0.0</td>\n",
              "    </tr>\n",
              "    <tr>\n",
              "      <th>8</th>\n",
              "      <td>first of all i hate those moronic rappers who ...</td>\n",
              "      <td>0.0</td>\n",
              "    </tr>\n",
              "    <tr>\n",
              "      <th>9</th>\n",
              "      <td>this adaption contains two parts br br 1 the n...</td>\n",
              "      <td>0.0</td>\n",
              "    </tr>\n",
              "  </tbody>\n",
              "</table>\n",
              "</div>\n",
              "    <div class=\"colab-df-buttons\">\n",
              "\n",
              "  <div class=\"colab-df-container\">\n",
              "    <button class=\"colab-df-convert\" onclick=\"convertToInteractive('df-cd6cc6eb-3ae6-445c-9cc3-16155d3d642e')\"\n",
              "            title=\"Convert this dataframe to an interactive table.\"\n",
              "            style=\"display:none;\">\n",
              "\n",
              "  <svg xmlns=\"http://www.w3.org/2000/svg\" height=\"24px\" viewBox=\"0 -960 960 960\">\n",
              "    <path d=\"M120-120v-720h720v720H120Zm60-500h600v-160H180v160Zm220 220h160v-160H400v160Zm0 220h160v-160H400v160ZM180-400h160v-160H180v160Zm440 0h160v-160H620v160ZM180-180h160v-160H180v160Zm440 0h160v-160H620v160Z\"/>\n",
              "  </svg>\n",
              "    </button>\n",
              "\n",
              "  <style>\n",
              "    .colab-df-container {\n",
              "      display:flex;\n",
              "      gap: 12px;\n",
              "    }\n",
              "\n",
              "    .colab-df-convert {\n",
              "      background-color: #E8F0FE;\n",
              "      border: none;\n",
              "      border-radius: 50%;\n",
              "      cursor: pointer;\n",
              "      display: none;\n",
              "      fill: #1967D2;\n",
              "      height: 32px;\n",
              "      padding: 0 0 0 0;\n",
              "      width: 32px;\n",
              "    }\n",
              "\n",
              "    .colab-df-convert:hover {\n",
              "      background-color: #E2EBFA;\n",
              "      box-shadow: 0px 1px 2px rgba(60, 64, 67, 0.3), 0px 1px 3px 1px rgba(60, 64, 67, 0.15);\n",
              "      fill: #174EA6;\n",
              "    }\n",
              "\n",
              "    .colab-df-buttons div {\n",
              "      margin-bottom: 4px;\n",
              "    }\n",
              "\n",
              "    [theme=dark] .colab-df-convert {\n",
              "      background-color: #3B4455;\n",
              "      fill: #D2E3FC;\n",
              "    }\n",
              "\n",
              "    [theme=dark] .colab-df-convert:hover {\n",
              "      background-color: #434B5C;\n",
              "      box-shadow: 0px 1px 3px 1px rgba(0, 0, 0, 0.15);\n",
              "      filter: drop-shadow(0px 1px 2px rgba(0, 0, 0, 0.3));\n",
              "      fill: #FFFFFF;\n",
              "    }\n",
              "  </style>\n",
              "\n",
              "    <script>\n",
              "      const buttonEl =\n",
              "        document.querySelector('#df-cd6cc6eb-3ae6-445c-9cc3-16155d3d642e button.colab-df-convert');\n",
              "      buttonEl.style.display =\n",
              "        google.colab.kernel.accessAllowed ? 'block' : 'none';\n",
              "\n",
              "      async function convertToInteractive(key) {\n",
              "        const element = document.querySelector('#df-cd6cc6eb-3ae6-445c-9cc3-16155d3d642e');\n",
              "        const dataTable =\n",
              "          await google.colab.kernel.invokeFunction('convertToInteractive',\n",
              "                                                    [key], {});\n",
              "        if (!dataTable) return;\n",
              "\n",
              "        const docLinkHtml = 'Like what you see? Visit the ' +\n",
              "          '<a target=\"_blank\" href=https://colab.research.google.com/notebooks/data_table.ipynb>data table notebook</a>'\n",
              "          + ' to learn more about interactive tables.';\n",
              "        element.innerHTML = '';\n",
              "        dataTable['output_type'] = 'display_data';\n",
              "        await google.colab.output.renderOutput(dataTable, element);\n",
              "        const docLink = document.createElement('div');\n",
              "        docLink.innerHTML = docLinkHtml;\n",
              "        element.appendChild(docLink);\n",
              "      }\n",
              "    </script>\n",
              "  </div>\n",
              "\n",
              "\n",
              "<div id=\"df-7f03be97-c015-466b-8e32-7c83e4adf7e0\">\n",
              "  <button class=\"colab-df-quickchart\" onclick=\"quickchart('df-7f03be97-c015-466b-8e32-7c83e4adf7e0')\"\n",
              "            title=\"Suggest charts\"\n",
              "            style=\"display:none;\">\n",
              "\n",
              "<svg xmlns=\"http://www.w3.org/2000/svg\" height=\"24px\"viewBox=\"0 0 24 24\"\n",
              "     width=\"24px\">\n",
              "    <g>\n",
              "        <path d=\"M19 3H5c-1.1 0-2 .9-2 2v14c0 1.1.9 2 2 2h14c1.1 0 2-.9 2-2V5c0-1.1-.9-2-2-2zM9 17H7v-7h2v7zm4 0h-2V7h2v10zm4 0h-2v-4h2v4z\"/>\n",
              "    </g>\n",
              "</svg>\n",
              "  </button>\n",
              "\n",
              "<style>\n",
              "  .colab-df-quickchart {\n",
              "      --bg-color: #E8F0FE;\n",
              "      --fill-color: #1967D2;\n",
              "      --hover-bg-color: #E2EBFA;\n",
              "      --hover-fill-color: #174EA6;\n",
              "      --disabled-fill-color: #AAA;\n",
              "      --disabled-bg-color: #DDD;\n",
              "  }\n",
              "\n",
              "  [theme=dark] .colab-df-quickchart {\n",
              "      --bg-color: #3B4455;\n",
              "      --fill-color: #D2E3FC;\n",
              "      --hover-bg-color: #434B5C;\n",
              "      --hover-fill-color: #FFFFFF;\n",
              "      --disabled-bg-color: #3B4455;\n",
              "      --disabled-fill-color: #666;\n",
              "  }\n",
              "\n",
              "  .colab-df-quickchart {\n",
              "    background-color: var(--bg-color);\n",
              "    border: none;\n",
              "    border-radius: 50%;\n",
              "    cursor: pointer;\n",
              "    display: none;\n",
              "    fill: var(--fill-color);\n",
              "    height: 32px;\n",
              "    padding: 0;\n",
              "    width: 32px;\n",
              "  }\n",
              "\n",
              "  .colab-df-quickchart:hover {\n",
              "    background-color: var(--hover-bg-color);\n",
              "    box-shadow: 0 1px 2px rgba(60, 64, 67, 0.3), 0 1px 3px 1px rgba(60, 64, 67, 0.15);\n",
              "    fill: var(--button-hover-fill-color);\n",
              "  }\n",
              "\n",
              "  .colab-df-quickchart-complete:disabled,\n",
              "  .colab-df-quickchart-complete:disabled:hover {\n",
              "    background-color: var(--disabled-bg-color);\n",
              "    fill: var(--disabled-fill-color);\n",
              "    box-shadow: none;\n",
              "  }\n",
              "\n",
              "  .colab-df-spinner {\n",
              "    border: 2px solid var(--fill-color);\n",
              "    border-color: transparent;\n",
              "    border-bottom-color: var(--fill-color);\n",
              "    animation:\n",
              "      spin 1s steps(1) infinite;\n",
              "  }\n",
              "\n",
              "  @keyframes spin {\n",
              "    0% {\n",
              "      border-color: transparent;\n",
              "      border-bottom-color: var(--fill-color);\n",
              "      border-left-color: var(--fill-color);\n",
              "    }\n",
              "    20% {\n",
              "      border-color: transparent;\n",
              "      border-left-color: var(--fill-color);\n",
              "      border-top-color: var(--fill-color);\n",
              "    }\n",
              "    30% {\n",
              "      border-color: transparent;\n",
              "      border-left-color: var(--fill-color);\n",
              "      border-top-color: var(--fill-color);\n",
              "      border-right-color: var(--fill-color);\n",
              "    }\n",
              "    40% {\n",
              "      border-color: transparent;\n",
              "      border-right-color: var(--fill-color);\n",
              "      border-top-color: var(--fill-color);\n",
              "    }\n",
              "    60% {\n",
              "      border-color: transparent;\n",
              "      border-right-color: var(--fill-color);\n",
              "    }\n",
              "    80% {\n",
              "      border-color: transparent;\n",
              "      border-right-color: var(--fill-color);\n",
              "      border-bottom-color: var(--fill-color);\n",
              "    }\n",
              "    90% {\n",
              "      border-color: transparent;\n",
              "      border-bottom-color: var(--fill-color);\n",
              "    }\n",
              "  }\n",
              "</style>\n",
              "\n",
              "  <script>\n",
              "    async function quickchart(key) {\n",
              "      const quickchartButtonEl =\n",
              "        document.querySelector('#' + key + ' button');\n",
              "      quickchartButtonEl.disabled = true;  // To prevent multiple clicks.\n",
              "      quickchartButtonEl.classList.add('colab-df-spinner');\n",
              "      try {\n",
              "        const charts = await google.colab.kernel.invokeFunction(\n",
              "            'suggestCharts', [key], {});\n",
              "      } catch (error) {\n",
              "        console.error('Error during call to suggestCharts:', error);\n",
              "      }\n",
              "      quickchartButtonEl.classList.remove('colab-df-spinner');\n",
              "      quickchartButtonEl.classList.add('colab-df-quickchart-complete');\n",
              "    }\n",
              "    (() => {\n",
              "      let quickchartButtonEl =\n",
              "        document.querySelector('#df-7f03be97-c015-466b-8e32-7c83e4adf7e0 button');\n",
              "      quickchartButtonEl.style.display =\n",
              "        google.colab.kernel.accessAllowed ? 'block' : 'none';\n",
              "    })();\n",
              "  </script>\n",
              "</div>\n",
              "\n",
              "    </div>\n",
              "  </div>\n"
            ],
            "application/vnd.google.colaboratory.intrinsic+json": {
              "type": "dataframe",
              "variable_name": "data",
              "summary": "{\n  \"name\": \"data\",\n  \"rows\": 44962,\n  \"fields\": [\n    {\n      \"column\": \"review\",\n      \"properties\": {\n        \"dtype\": \"string\",\n        \"num_unique_values\": 44577,\n        \"samples\": [\n          \"i finally snagged a copy of kannathil muthamittal through netflix and spent new yera s eve watching an amazing drama unfold it began with shyama a winsome nandita das getting married to dhileepan in the backwaters of sri lanka and then a war takes over their romance shyama has to flee to india and is in a refugee camp as she gives birth to a child several years later we see amudha a playful well loved child p s keerthana who is the darling or burden of teachers parents and fellow schoolmates alike in a very how to solve a problem like maria sequence on her birthday she is told by her parents thiru madhavan and indra simran that she is not their biological child she was adopted this tilts her confident love filled world and she constantly dwells on why her birth mother left her several attempts at truancy later the adoptive parents take her to sri lanka to try to find her birth mother the country is torn asunder by a raging civil war and the trio are inevitably caught up in the mess but this also leads to their meeting the new shyama one who finally is confronted by amudha and asked why she abandoned her daughter br br the story of a child who has to grapple with the fact that she was abandoned at birth her obsessive drive to reconnect with her birth mother the unconditional love of the adoptive parents the demons that drive the birth mother the normalcy of chennai and the horrors of terrorism ravaged sri lanka mani ratnam made a masterful film that blended many ingredients into a saga that is soul stirring ar rahman s music beautifully complements the magical and the poignant moments in the film the film has excellent performances from madhavan nandita das simran and an absolute stunner role as amudha the abandoned one done by the child artiste p s keerthana this performance won her a national award br br the cinematography is visual poetry each frame is beautifully crafted and breathtakingly shot i am intrigued by the connection mani ratnam has with terrorism love and obsessions i think his exploration of these subjects is absolutely outstanding mahadevan s character was quite unique his passion and idealism did not make him selfish rather was well matched with how much he cared for the little girl his one liners were hilarious the mother played by simran was also quite multi dimensional she was idealistic loved the adopted daughter but also worried about her biological kids the shock angst and obsession of the child amudha was outstandingly portrayed by p s keerthana her wide accusing eyes did most of the talking in fact the enigmatic characters were those of nandita das and her husband perhaps mani deliberately made them mysterious so as to not give us overt ideas of why they were the way they were the enigma of why a terrorist becomes what he or she becomes it also kept him from being judgmental this was another conflict in which he took no sides but merely reported while showing the human tragedy br br kannathil muthamittal is visual poetry and a soul stirring drama i rarely weep in the movies but this one left me moist eyed and a little heartsick this is a beautiful film a treasure and a keeper if you can find a copy beg borrow or steal one today and watch the film\",\n          \"malcolm mcdowell diagnoses megan gallagher s daughter and she as having a form of illness when they believe they are seeing the huldre troll like creatures which live with the rocks and the roots to quote the movie br br basically a family moves into an older house which has a smaller doll house in the backyard the daughter well played by sofia vassiliova starts to befriend the creatures until they become vindictive the family cat also disappears br br there are a few good scenes with megan gallagher millennium and malcolm mcdowell as the psychiatrist there is also something strange which occurred to one of mcdowell s patients br br if you enjoy this type of story you may also like bad ronald which had a similar odd theme and the house is haunted by bad ronald scott jacoby only that movie is from the 70 s 7 10\",\n          \"i didn t enjoy this film i thought the acting wasn t very good and the story was boring a 20year old computer saving the day i thought that this was just slightly far fetched even for a film i couldn t figure out why they couldn t just turn it off why not take a sledgehammer to it br br its a shame but after the original film from the 80s you expected so much more than what was actually delivered this film could have been a 21st century version of the old film it wasn t if that is what you want to watch do not watch this film br br even if the old computer hadn t have turned up to save day this would still in my opinion be a very very cheesy flick\"\n        ],\n        \"semantic_type\": \"\",\n        \"description\": \"\"\n      }\n    },\n    {\n      \"column\": \"label\",\n      \"properties\": {\n        \"dtype\": \"number\",\n        \"std\": 0.4978902207444907,\n        \"min\": 0.0,\n        \"max\": 1.0,\n        \"num_unique_values\": 2,\n        \"samples\": [\n          1.0,\n          0.0\n        ],\n        \"semantic_type\": \"\",\n        \"description\": \"\"\n      }\n    }\n  ]\n}"
            }
          },
          "metadata": {},
          "execution_count": 7
        }
      ]
    },
    {
      "cell_type": "code",
      "source": [
        "data.isnull().sum()"
      ],
      "metadata": {
        "colab": {
          "base_uri": "https://localhost:8080/"
        },
        "id": "75FpepghZa1D",
        "outputId": "47042016-8dab-426e-e778-1394e4d81380"
      },
      "execution_count": 4,
      "outputs": [
        {
          "output_type": "execute_result",
          "data": {
            "text/plain": [
              "review    2\n",
              "label     5\n",
              "dtype: int64"
            ]
          },
          "metadata": {},
          "execution_count": 4
        }
      ]
    },
    {
      "cell_type": "code",
      "source": [],
      "metadata": {
        "id": "TZeojYHTfj11"
      },
      "execution_count": null,
      "outputs": []
    },
    {
      "cell_type": "code",
      "source": [
        "data=data.dropna().reset_index(drop=True)"
      ],
      "metadata": {
        "id": "OdQihcoSZfUs"
      },
      "execution_count": 5,
      "outputs": []
    },
    {
      "cell_type": "code",
      "source": [
        "data.isnull().sum()"
      ],
      "metadata": {
        "colab": {
          "base_uri": "https://localhost:8080/"
        },
        "id": "iF7vT9bRZoJY",
        "outputId": "9343f6dd-8bff-40d3-a1eb-c71465f043c5"
      },
      "execution_count": 6,
      "outputs": [
        {
          "output_type": "execute_result",
          "data": {
            "text/plain": [
              "review    0\n",
              "label     0\n",
              "dtype: int64"
            ]
          },
          "metadata": {},
          "execution_count": 6
        }
      ]
    },
    {
      "cell_type": "code",
      "source": [
        "X_train, X_test, y_train, y_test = train_test_split(data['review'], data['label'], test_size = .4, shuffle = False)"
      ],
      "metadata": {
        "id": "m9YSAQnvZr_-"
      },
      "execution_count": 7,
      "outputs": []
    },
    {
      "cell_type": "code",
      "source": [
        "len(X_train), len(y_train), len(X_test), len(y_test)"
      ],
      "metadata": {
        "colab": {
          "base_uri": "https://localhost:8080/"
        },
        "id": "9JXrzYcJZ5gE",
        "outputId": "8d6f5020-81ee-4bd1-8e33-04b6c4865cff"
      },
      "execution_count": 8,
      "outputs": [
        {
          "output_type": "execute_result",
          "data": {
            "text/plain": [
              "(29446, 29446, 19632, 19632)"
            ]
          },
          "metadata": {},
          "execution_count": 8
        }
      ]
    },
    {
      "cell_type": "code",
      "source": [
        "sentiments = data['label'].value_counts()\n",
        "print('Sentiments in entire dataset:\\n Positive: {}\\n Negative: {}'.format(sentiments[1], sentiments[0]))"
      ],
      "metadata": {
        "colab": {
          "base_uri": "https://localhost:8080/"
        },
        "id": "Uh8esZgqarRp",
        "outputId": "c62e1d4c-6815-48c8-996e-e3987f39e8a3"
      },
      "execution_count": 9,
      "outputs": [
        {
          "output_type": "stream",
          "name": "stdout",
          "text": [
            "Sentiments in entire dataset:\n",
            " Positive: 24536\n",
            " Negative: 24542\n"
          ]
        }
      ]
    },
    {
      "cell_type": "code",
      "source": [
        "def get_sentiments(d, _d):\n",
        "    positive = (d==1).sum()\n",
        "    negative = (d==0).sum()\n",
        "    print('Sentiments in {}:\\n Positive: {}\\n Negative: {}'.format(_d, positive, negative))"
      ],
      "metadata": {
        "id": "v_E1eROSb_Ir"
      },
      "execution_count": 10,
      "outputs": []
    },
    {
      "cell_type": "code",
      "source": [
        "get_sentiments(y_train, 'Train data')\n",
        "get_sentiments(y_test, 'Test data')"
      ],
      "metadata": {
        "colab": {
          "base_uri": "https://localhost:8080/"
        },
        "id": "2acg8HL-cD7Y",
        "outputId": "20bf90cf-437b-450e-e54b-337ed42b4ea5"
      },
      "execution_count": 11,
      "outputs": [
        {
          "output_type": "stream",
          "name": "stdout",
          "text": [
            "Sentiments in Train data:\n",
            " Positive: 12333\n",
            " Negative: 17113\n",
            "Sentiments in Test data:\n",
            " Positive: 12203\n",
            " Negative: 7429\n"
          ]
        }
      ]
    },
    {
      "cell_type": "code",
      "source": [
        "def tokenize(text):\n",
        "    return [word for word in word_tokenize(text.lower()) if word not in stopwords.words('english')]"
      ],
      "metadata": {
        "id": "lwFFKeP3cHG4"
      },
      "execution_count": 12,
      "outputs": []
    },
    {
      "cell_type": "code",
      "source": [
        "def choose_vectorizer(option):\n",
        "    if option == 'generate':\n",
        "        vectorizer = TfidfVectorizer(tokenizer = tokenize)\n",
        "    elif option == 'load':\n",
        "        vectorizer = TfidfVectorizer(vocabulary = pickle.load(open('vocabulary.pkl', 'rb')))\n",
        "\n",
        "    return vectorizer"
      ],
      "metadata": {
        "id": "iJcoKdO6cHrH"
      },
      "execution_count": 13,
      "outputs": []
    },
    {
      "cell_type": "code",
      "source": [
        "%%time\n",
        "options = ['generate', 'load']\n",
        "\n",
        "# 0 to generate, 1 to load (choose wisely, your life depends on it!)\n",
        "option = options[1]\n",
        "\n",
        "vectorizer = choose_vectorizer(option)\n",
        "vectorized_train_data = vectorizer.fit_transform(X_train)\n",
        "vectorized_test_data = vectorizer.transform(X_test)\n",
        "\n",
        "if option == 'generate':\n",
        "    pickle.dump(vectorizer.vocabulary_, open('vocabulary.pkl', 'wb'))"
      ],
      "metadata": {
        "colab": {
          "base_uri": "https://localhost:8080/"
        },
        "id": "99TOM3hBcM-6",
        "outputId": "a9145140-7f27-4359-95bc-95921c775d3a"
      },
      "execution_count": 16,
      "outputs": [
        {
          "output_type": "stream",
          "name": "stdout",
          "text": [
            "CPU times: user 13.7 s, sys: 217 ms, total: 13.9 s\n",
            "Wall time: 19 s\n"
          ]
        }
      ]
    },
    {
      "cell_type": "code",
      "source": [
        "%%time\n",
        "sm = SMOTE(random_state=42,sampling_strategy='auto')\n",
        "X_train, y_train  = sm.fit_resample(vectorized_train_data, y_train)\n"
      ],
      "metadata": {
        "colab": {
          "base_uri": "https://localhost:8080/"
        },
        "id": "Frh6xdmBc_9s",
        "outputId": "225f004e-ab6e-4181-c14e-b3292ec686d5"
      },
      "execution_count": 17,
      "outputs": [
        {
          "output_type": "stream",
          "name": "stdout",
          "text": [
            "CPU times: user 41min 51s, sys: 3.04 s, total: 41min 54s\n",
            "Wall time: 25min 3s\n"
          ]
        }
      ]
    },
    {
      "cell_type": "code",
      "source": [
        "clf=LogisticRegression()\n",
        "clf.fit(X_train, y_train)"
      ],
      "metadata": {
        "id": "Aq62hsNRdbHX",
        "colab": {
          "base_uri": "https://localhost:8080/",
          "height": 75
        },
        "outputId": "90cd6ac1-7a9f-4daf-cec5-360ab73deefd"
      },
      "execution_count": 19,
      "outputs": [
        {
          "output_type": "execute_result",
          "data": {
            "text/plain": [
              "LogisticRegression()"
            ],
            "text/html": [
              "<style>#sk-container-id-1 {color: black;background-color: white;}#sk-container-id-1 pre{padding: 0;}#sk-container-id-1 div.sk-toggleable {background-color: white;}#sk-container-id-1 label.sk-toggleable__label {cursor: pointer;display: block;width: 100%;margin-bottom: 0;padding: 0.3em;box-sizing: border-box;text-align: center;}#sk-container-id-1 label.sk-toggleable__label-arrow:before {content: \"▸\";float: left;margin-right: 0.25em;color: #696969;}#sk-container-id-1 label.sk-toggleable__label-arrow:hover:before {color: black;}#sk-container-id-1 div.sk-estimator:hover label.sk-toggleable__label-arrow:before {color: black;}#sk-container-id-1 div.sk-toggleable__content {max-height: 0;max-width: 0;overflow: hidden;text-align: left;background-color: #f0f8ff;}#sk-container-id-1 div.sk-toggleable__content pre {margin: 0.2em;color: black;border-radius: 0.25em;background-color: #f0f8ff;}#sk-container-id-1 input.sk-toggleable__control:checked~div.sk-toggleable__content {max-height: 200px;max-width: 100%;overflow: auto;}#sk-container-id-1 input.sk-toggleable__control:checked~label.sk-toggleable__label-arrow:before {content: \"▾\";}#sk-container-id-1 div.sk-estimator input.sk-toggleable__control:checked~label.sk-toggleable__label {background-color: #d4ebff;}#sk-container-id-1 div.sk-label input.sk-toggleable__control:checked~label.sk-toggleable__label {background-color: #d4ebff;}#sk-container-id-1 input.sk-hidden--visually {border: 0;clip: rect(1px 1px 1px 1px);clip: rect(1px, 1px, 1px, 1px);height: 1px;margin: -1px;overflow: hidden;padding: 0;position: absolute;width: 1px;}#sk-container-id-1 div.sk-estimator {font-family: monospace;background-color: #f0f8ff;border: 1px dotted black;border-radius: 0.25em;box-sizing: border-box;margin-bottom: 0.5em;}#sk-container-id-1 div.sk-estimator:hover {background-color: #d4ebff;}#sk-container-id-1 div.sk-parallel-item::after {content: \"\";width: 100%;border-bottom: 1px solid gray;flex-grow: 1;}#sk-container-id-1 div.sk-label:hover label.sk-toggleable__label {background-color: #d4ebff;}#sk-container-id-1 div.sk-serial::before {content: \"\";position: absolute;border-left: 1px solid gray;box-sizing: border-box;top: 0;bottom: 0;left: 50%;z-index: 0;}#sk-container-id-1 div.sk-serial {display: flex;flex-direction: column;align-items: center;background-color: white;padding-right: 0.2em;padding-left: 0.2em;position: relative;}#sk-container-id-1 div.sk-item {position: relative;z-index: 1;}#sk-container-id-1 div.sk-parallel {display: flex;align-items: stretch;justify-content: center;background-color: white;position: relative;}#sk-container-id-1 div.sk-item::before, #sk-container-id-1 div.sk-parallel-item::before {content: \"\";position: absolute;border-left: 1px solid gray;box-sizing: border-box;top: 0;bottom: 0;left: 50%;z-index: -1;}#sk-container-id-1 div.sk-parallel-item {display: flex;flex-direction: column;z-index: 1;position: relative;background-color: white;}#sk-container-id-1 div.sk-parallel-item:first-child::after {align-self: flex-end;width: 50%;}#sk-container-id-1 div.sk-parallel-item:last-child::after {align-self: flex-start;width: 50%;}#sk-container-id-1 div.sk-parallel-item:only-child::after {width: 0;}#sk-container-id-1 div.sk-dashed-wrapped {border: 1px dashed gray;margin: 0 0.4em 0.5em 0.4em;box-sizing: border-box;padding-bottom: 0.4em;background-color: white;}#sk-container-id-1 div.sk-label label {font-family: monospace;font-weight: bold;display: inline-block;line-height: 1.2em;}#sk-container-id-1 div.sk-label-container {text-align: center;}#sk-container-id-1 div.sk-container {/* jupyter's `normalize.less` sets `[hidden] { display: none; }` but bootstrap.min.css set `[hidden] { display: none !important; }` so we also need the `!important` here to be able to override the default hidden behavior on the sphinx rendered scikit-learn.org. See: https://github.com/scikit-learn/scikit-learn/issues/21755 */display: inline-block !important;position: relative;}#sk-container-id-1 div.sk-text-repr-fallback {display: none;}</style><div id=\"sk-container-id-1\" class=\"sk-top-container\"><div class=\"sk-text-repr-fallback\"><pre>LogisticRegression()</pre><b>In a Jupyter environment, please rerun this cell to show the HTML representation or trust the notebook. <br />On GitHub, the HTML representation is unable to render, please try loading this page with nbviewer.org.</b></div><div class=\"sk-container\" hidden><div class=\"sk-item\"><div class=\"sk-estimator sk-toggleable\"><input class=\"sk-toggleable__control sk-hidden--visually\" id=\"sk-estimator-id-1\" type=\"checkbox\" checked><label for=\"sk-estimator-id-1\" class=\"sk-toggleable__label sk-toggleable__label-arrow\">LogisticRegression</label><div class=\"sk-toggleable__content\"><pre>LogisticRegression()</pre></div></div></div></div></div>"
            ]
          },
          "metadata": {},
          "execution_count": 19
        }
      ]
    },
    {
      "cell_type": "code",
      "source": [
        "kf = KFold(n_splits=10, random_state = 42, shuffle = True)\n",
        "scores = cross_val_score(clf, X_train, y_train, cv = kf)"
      ],
      "metadata": {
        "id": "GV4JYp6dkGEs"
      },
      "execution_count": 20,
      "outputs": []
    },
    {
      "cell_type": "code",
      "source": [
        "print('Cross-validation scores:', scores)\n",
        "print('Cross-validation accuracy: {:.4f} (+/- {:.4f})'.format(scores.mean(), scores.std() * 2))\n"
      ],
      "metadata": {
        "id": "Ip1uahdskH9T",
        "colab": {
          "base_uri": "https://localhost:8080/"
        },
        "outputId": "a9ad477e-dab9-4f35-cb51-14691c5314e8"
      },
      "execution_count": 21,
      "outputs": [
        {
          "output_type": "stream",
          "name": "stdout",
          "text": [
            "Cross-validation scores: [0.90972831 0.90972831 0.91264972 0.91206544 0.90359334 0.90914403\n",
            " 0.90298071 0.92226768 0.91350088 0.9181765 ]\n",
            "Cross-validation accuracy: 0.9114 (+/- 0.0112)\n"
          ]
        }
      ]
    },
    {
      "cell_type": "code",
      "source": [
        "predictions = clf.predict(vectorized_test_data)\n",
        "\n",
        "validation = dict()\n",
        "\n",
        "validation['accuracy'] = accuracy_score(y_test, predictions)\n",
        "validation['precision'] = precision_score(y_test, predictions, average='macro')\n",
        "validation['recall'] = recall_score(y_test, predictions, average='macro')\n",
        "validation['f1'] = f1_score(y_test, predictions, average='macro')"
      ],
      "metadata": {
        "id": "akYcODVokKDx"
      },
      "execution_count": 22,
      "outputs": []
    },
    {
      "cell_type": "code",
      "source": [
        "print('Validation results:\\n', '-' * 12)\n",
        "for v in validation:\n",
        "    print('{}: {:.5f}'.format(v.title(), validation[v]))"
      ],
      "metadata": {
        "id": "TSTOM1HKkL4q",
        "colab": {
          "base_uri": "https://localhost:8080/"
        },
        "outputId": "25426014-3b19-4197-f559-42ee18268421"
      },
      "execution_count": 23,
      "outputs": [
        {
          "output_type": "stream",
          "name": "stdout",
          "text": [
            "Validation results:\n",
            " ------------\n",
            "Accuracy: 0.86975\n",
            "Precision: 0.85951\n",
            "Recall: 0.87251\n",
            "F1: 0.86428\n"
          ]
        }
      ]
    },
    {
      "cell_type": "code",
      "source": [
        "p = predictions.tolist()\n",
        "ck = cohen_kappa_score(y_test, p)\n",
        "print('C-K Score: {:.5f}'.format(ck))\n"
      ],
      "metadata": {
        "id": "oI9BPNPfkOhS",
        "colab": {
          "base_uri": "https://localhost:8080/"
        },
        "outputId": "996b125f-d0c3-44f9-8513-f58d99df858e"
      },
      "execution_count": 24,
      "outputs": [
        {
          "output_type": "stream",
          "name": "stdout",
          "text": [
            "C-K Score: 0.72906\n"
          ]
        }
      ]
    },
    {
      "cell_type": "code",
      "source": [
        "example_reviews = [\n",
        "    'An honest, engaging, and surprisingly funny look back at one of modern television\\'s greatest achievements.',\n",
        "    'Excellent movie! Inspiring and very entertaining for all especially youth and anyone inspired by today\\'s modern age of tech entrepreneurship!',\n",
        "    'Honestly even the trailer made me uncomfortable.',\n",
        "    'I never write movie reviews, but this one was such a stinker, I feel I owe it to everyone to at least provide a warning.',\n",
        "    'This movie was a good movie by standard and a lil beyond standard. It was written very well, The acting was great, each characters performance was clever and the comedic timing was spot on. The story line is very real and relatable. Enjoyable for adults and completely appropriate for pre-teens up to 20. Go support, my family loved it.'\n",
        "]"
      ],
      "metadata": {
        "id": "h4-xjK72kQM-"
      },
      "execution_count": 25,
      "outputs": []
    },
    {
      "cell_type": "code",
      "source": [
        "example_preds = clf.predict(vectorizer.transform(example_reviews))\n",
        "print(' '.join(str(int(p)) for p in example_preds))"
      ],
      "metadata": {
        "id": "EIwC5QNwkTgj",
        "colab": {
          "base_uri": "https://localhost:8080/"
        },
        "outputId": "abe0defa-9e44-45d6-9608-869469046a99"
      },
      "execution_count": 26,
      "outputs": [
        {
          "output_type": "stream",
          "name": "stdout",
          "text": [
            "1 1 0 0 1\n"
          ]
        }
      ]
    },
    {
      "cell_type": "code",
      "source": [
        "import matplotlib.pyplot as plt\n",
        "\n",
        "# Define performance metrics\n",
        "metrics = ['Accuracy', 'Precision', 'Recall', 'F1-score', 'Cohen-Kappa']\n",
        "scores = [validation['accuracy'], validation['precision'], validation['recall'], validation['f1'], ck]\n",
        "\n",
        "# Plot performance metrics\n",
        "plt.figure(figsize=(10, 6))\n",
        "plt.bar(metrics, scores, color=['blue', 'green', 'red', 'purple', 'orange'])\n",
        "plt.title('Performance Metrics for IMDb Sentiment Classification')\n",
        "plt.xlabel('Metrics')\n",
        "plt.ylabel('Score')\n",
        "plt.ylim(0, 1)  # Set y-axis limit to 0-1 for readability\n",
        "plt.grid(axis='y', linestyle='--', alpha=0.7)\n",
        "plt.show()\n"
      ],
      "metadata": {
        "colab": {
          "base_uri": "https://localhost:8080/",
          "height": 564
        },
        "id": "5wxD7CJbjeJO",
        "outputId": "acac45b0-1e2b-4ef2-f03f-c9d4b14c77e4"
      },
      "execution_count": 27,
      "outputs": [
        {
          "output_type": "display_data",
          "data": {
            "text/plain": [
              "<Figure size 1000x600 with 1 Axes>"
            ],
            "image/png": "[encoded data removed]"
          },
          "metadata": {}
        }
      ]
    },
    {
      "cell_type": "code",
      "source": [
        "import seaborn as sns\n",
        "\n",
        "# Count the number of positive and negative sentiments in the dataset\n",
        "sentiment_counts = data['label'].value_counts()\n",
        "\n",
        "# Plot sentiment distribution\n",
        "plt.figure(figsize=(8, 6))\n",
        "sns.countplot(x='label', data=data, palette='Set2')\n",
        "plt.title('Distribution of Sentiments in IMDb Dataset')\n",
        "plt.xlabel('Sentiment')\n",
        "plt.ylabel('Count')\n",
        "plt.xticks(ticks=[0, 1], labels=['Negative', 'Positive'])\n",
        "plt.show()\n"
      ],
      "metadata": {
        "colab": {
          "base_uri": "https://localhost:8080/",
          "height": 564
        },
        "id": "c6s0ogunj8vX",
        "outputId": "ed9a4fac-e640-40d1-fe01-28be7d303624"
      },
      "execution_count": 28,
      "outputs": [
        {
          "output_type": "display_data",
          "data": {
            "text/plain": [
              "<Figure size 800x600 with 1 Axes>"
            ],
            "image/png": "[encoded data removed]"
          },
          "metadata": {}
        }
      ]
    },
    {
      "cell_type": "code",
      "source": [
        "import seaborn as sns\n",
        "\n",
        "# Count the number of positive and negative sentiments in the dataset\n",
        "sentiment_counts = data['label'].value_counts()\n",
        "\n",
        "# Plot sentiment distribution\n",
        "plt.figure(figsize=(8, 6))\n",
        "sns.countplot(x='label', data=data, palette='Set2')\n",
        "plt.title('Distribution of Sentiments in IMDb Dataset')\n",
        "plt.xlabel('Sentiment')\n",
        "plt.ylabel('Count')\n",
        "plt.xticks(ticks=[0, 1], labels=['Negative', 'Positive'])\n",
        "plt.show()\n"
      ],
      "metadata": {
        "colab": {
          "base_uri": "https://localhost:8080/",
          "height": 564
        },
        "id": "DBXz6xjqk35p",
        "outputId": "24c2d15a-4172-4790-a8d6-eff24c4fba8c"
      },
      "execution_count": 29,
      "outputs": [
        {
          "output_type": "display_data",
          "data": {
            "text/plain": [
              "<Figure size 800x600 with 1 Axes>"
            ],
            "image/png": "[encoded data removed]"
          },
          "metadata": {}
        }
      ]
    },
    {
      "cell_type": "code",
      "source": [
        "import seaborn as sns\n",
        "\n",
        "# Plot sentiment distribution with hue\n",
        "plt.figure(figsize=(8, 6))\n",
        "sns.countplot(x='label', hue='review', data=data, palette='Set2')\n",
        "plt.title('Distribution of Sentiments in IMDb Dataset with Hue')\n",
        "plt.xlabel('Sentiment')\n",
        "plt.ylabel('Count')\n",
        "plt.xticks(ticks=[0, 1], labels=['Negative', 'Positive'])\n",
        "plt.legend(title='Some Variable')\n",
        "plt.show()\n"
      ],
      "metadata": {
        "id": "A1b1BTUVlFXl"
      },
      "execution_count": null,
      "outputs": []
    }
  ]
}